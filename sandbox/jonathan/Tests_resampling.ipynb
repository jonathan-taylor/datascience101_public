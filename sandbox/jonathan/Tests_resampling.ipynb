{
 "cells": [
  {
   "cell_type": "code",
   "execution_count": 54,
   "metadata": {
    "collapsed": false,
    "slideshow": {
     "slide_type": "skip"
    }
   },
   "outputs": [],
   "source": [
    "%matplotlib inline\n",
    "import matplotlib.pyplot as plt\n",
    "import numpy as np\n",
    "from __future__ import division, print_function"
   ]
  },
  {
   "cell_type": "markdown",
   "metadata": {
    "slideshow": {
     "slide_type": "slide"
    }
   },
   "source": [
    "# Testing hypotheses\n",
    "\n",
    "- This module investigates the use of data science and statistics\n",
    "to answer questions about the process that generated data we observe.\n",
    "\n",
    "- Key concepts in this module:\n",
    "\n",
    "    * Formulation of a question: *hypothesis test*\n",
    "    * Evaluating the evidence for or against the question: *test statistic*\n",
    "    * What are the chances: *permutation distribution*"
   ]
  },
  {
   "cell_type": "markdown",
   "metadata": {
    "slideshow": {
     "slide_type": "slide"
    }
   },
   "source": [
    "\n",
    "## Lady Tasting Tea\n",
    "\n",
    "\n",
    "- This is a famous example of R. A. Fisher.\n",
    "\n",
    "- A lady declares that by tasting a cup of tea made with milk \n",
    "she can discriminate whether\n",
    "the milk or the tea infusion was first added to the cup.\n",
    "\n",
    "<img src=\"https://dl.dropboxusercontent.com/u/2785709/brainder/2015/tastingtea/tea_cups.png\">\n",
    "\n",
    "### Experiment\n",
    "\n",
    "- She is asked to taste eight cups, four of each type.\n",
    "\n",
    "- Cups are presented in a random order.\n",
    "\n",
    "- She correctly identifies the type of 6 out of 8 cups.\n",
    "\n",
    "- Do you think she can really tell the difference?\n"
   ]
  },
  {
   "cell_type": "markdown",
   "metadata": {
    "slideshow": {
     "slide_type": "slide"
    }
   },
   "source": [
    "## A representation of the experiment\n",
    "\n",
    "- Let her choices either `T` or `M`. She must make 8 choices, 4 of which will be `T` and\n",
    "4 of which will be `M`.\n",
    "\n",
    "- The true types of the tea are also `T` or `M`.\n",
    "\n",
    "- Here is an example of how we might describe the experiment"
   ]
  },
  {
   "cell_type": "code",
   "execution_count": 68,
   "metadata": {
    "collapsed": false,
    "slideshow": {
     "slide_type": "fragment"
    }
   },
   "outputs": [
    {
     "data": {
      "text/plain": [
       "6"
      ]
     },
     "execution_count": 68,
     "metadata": {},
     "output_type": "execute_result"
    }
   ],
   "source": [
    "lady = ['M', 'T', 'M', 'T', 'T', 'T', 'M', 'M']\n",
    "truth = ['M', 'M', 'M', 'T', 'T', 'T', 'T', 'M']\n",
    "number_correct = sum([l == t for l, t in zip(lady, truth)])\n",
    "number_correct"
   ]
  },
  {
   "cell_type": "markdown",
   "metadata": {
    "slideshow": {
     "slide_type": "slide"
    }
   },
   "source": [
    "## A mental model\n",
    "\n",
    "- The variables `lady` and `truth` are just two outcomes for the experiment\n",
    "in which the lady correctly identifies exactly 6 of the cups of tea.\n",
    "\n",
    "- Is this unusual? How many other outcomes for her choices are there?\n",
    "\n",
    "- How many other outcomes for her choices are there where she correctly identifies 6 or more?"
   ]
  },
  {
   "cell_type": "markdown",
   "metadata": {
    "slideshow": {
     "slide_type": "slide"
    }
   },
   "source": [
    "### Permutations\n",
    "\n",
    "- A *permutation* of a list is a reordering of the list.\n",
    "\n",
    "- The set of all possible outcomes for `lady` is the set of all\n",
    "reorderings of the list `lady`."
   ]
  },
  {
   "cell_type": "code",
   "execution_count": 65,
   "metadata": {
    "collapsed": false,
    "slideshow": {
     "slide_type": "fragment"
    }
   },
   "outputs": [
    {
     "data": {
      "text/plain": [
       "[0, 1, 2]"
      ]
     },
     "execution_count": 65,
     "metadata": {},
     "output_type": "execute_result"
    }
   ],
   "source": [
    "from itertools import permutations\n",
    "original_list = range(3)\n",
    "original_list"
   ]
  },
  {
   "cell_type": "code",
   "execution_count": 66,
   "metadata": {
    "collapsed": false,
    "slideshow": {
     "slide_type": "fragment"
    }
   },
   "outputs": [
    {
     "data": {
      "text/plain": [
       "[(0, 1, 2), (0, 2, 1), (1, 0, 2), (1, 2, 0)]"
      ]
     },
     "execution_count": 66,
     "metadata": {},
     "output_type": "execute_result"
    }
   ],
   "source": [
    "[reordering for reordering in permutations(original_list)]"
   ]
  },
  {
   "cell_type": "markdown",
   "metadata": {
    "slideshow": {
     "slide_type": "slide"
    }
   },
   "source": [
    "### Let us count the ways..."
   ]
  },
  {
   "cell_type": "code",
   "execution_count": 67,
   "metadata": {
    "collapsed": false,
    "slideshow": {
     "slide_type": "fragment"
    }
   },
   "outputs": [
    {
     "data": {
      "text/plain": [
       "(40320, 9216, 9792)"
      ]
     },
     "execution_count": 67,
     "metadata": {},
     "output_type": "execute_result"
    }
   ],
   "source": [
    "number_outcomes, exactly_six, six_or_more = 0, 0, 0\n",
    "for lady_permuted in permutations(lady):\n",
    "    number_outcomes += 1\n",
    "    number_match = np.sum([l == t for l, t in zip(lady_permuted, truth)])\n",
    "    exactly_six += (number_match == 6)\n",
    "    six_or_more += (number_match >= 6)\n",
    "    \n",
    "number_outcomes, exactly_six, six_or_more"
   ]
  },
  {
   "cell_type": "markdown",
   "metadata": {
    "slideshow": {
     "slide_type": "slide"
    }
   },
   "source": [
    "### What if there was no difference between the cups of tea?\n",
    "\n",
    "- If the lady could really tell no difference between the two,\n",
    "then any one of 40320 possible outcomes for her choices should\n",
    "reasonably be considered equally likely.\n",
    "\n",
    "- There were 9792 such outcomes in which she would have \n",
    "correctly identified 6 or more.\n",
    "\n",
    "- As the choices are equally likely, the chances that she would\n",
    "correctly identify 6 or more are\n",
    "$$\n",
    "\\frac{9792}{40320} \\approx 24\\%.\n",
    "$$\n",
    "\n",
    "- Not that rare an occurence. The chances she would correctly identify exactly 6 is about 23%!\n",
    "\n",
    "#### Food for thought: why didn't we also permute the `truth`?"
   ]
  },
  {
   "cell_type": "code",
   "execution_count": 6,
   "metadata": {
    "collapsed": false,
    "slideshow": {
     "slide_type": "fragment"
    }
   },
   "outputs": [
    {
     "data": {
      "text/plain": [
       "(0.24285714285714285, 0.22857142857142856)"
      ]
     },
     "execution_count": 6,
     "metadata": {},
     "output_type": "execute_result"
    }
   ],
   "source": [
    "six_or_more / number_outcomes, exactly_six / number_outcomes"
   ]
  },
  {
   "cell_type": "markdown",
   "metadata": {
    "slideshow": {
     "slide_type": "slide"
    }
   },
   "source": [
    "## More data?\n",
    "\n",
    "- The percentage of 75% seemed pretty impressive until we computed the chances\n",
    "we would see such an impressive rate.\n",
    "\n",
    "- What if she had correctly identified 60 out of 80 cups of tea?\n",
    "\n",
    "- In this case, the number of reorderings is huge, about $10^{118}$!\n",
    "\n",
    "- Our mental model is still valid: if the lady actually has no ability\n",
    "to tell the difference between the two types of teas, then any of these\n",
    "orderings is equally likely, whatever `truth` is.\n",
    "\n",
    "- We can get a sense of how impressive this is by choosing several reorderings\n",
    "at random and computing the number of matches."
   ]
  },
  {
   "cell_type": "code",
   "execution_count": 69,
   "metadata": {
    "collapsed": false,
    "slideshow": {
     "slide_type": "slide"
    }
   },
   "outputs": [
    {
     "data": {
      "text/plain": [
       "['T', 'T', 'T', 'T', 'T', 'T', 'T', 'T', 'T', 'T']"
      ]
     },
     "execution_count": 69,
     "metadata": {},
     "output_type": "execute_result"
    }
   ],
   "source": [
    "lady = ['T']*40 + ['M']*40\n",
    "truth = ['T']*40 + ['M']*40\n",
    "lady[:10]"
   ]
  },
  {
   "cell_type": "code",
   "execution_count": 81,
   "metadata": {
    "collapsed": false,
    "slideshow": {
     "slide_type": "fragment"
    }
   },
   "outputs": [
    {
     "data": {
      "text/plain": [
       "(0, 0)"
      ]
     },
     "execution_count": 81,
     "metadata": {},
     "output_type": "execute_result"
    }
   ],
   "source": [
    "def more_than_60(number_permutations):\n",
    "    exactly_sixty, sixty_or_more = 0, 0\n",
    "    matches = []\n",
    "    for _ in range(number_permutations):\n",
    "        lady_reordering = np.random.choice(lady, \n",
    "                                           size=len(lady), \n",
    "                                           replace=False)\n",
    "        number_match = np.sum([l == t for l, t in zip(lady_reordering, \n",
    "                                                      truth)])\n",
    "        exactly_sixty += (number_match == 60)\n",
    "        sixty_or_more += (number_match >= 60)\n",
    "        matches.append(number_match)\n",
    "    return matches, exactly_sixty, sixty_or_more\n",
    "\n",
    "more_than_60(5000)[1:]"
   ]
  },
  {
   "cell_type": "markdown",
   "metadata": {
    "slideshow": {
     "slide_type": "slide"
    }
   },
   "source": [
    "### Maybe she does know what she's doing...\n",
    "\n",
    "- We would really have been impressed by a 75% rate if she had tasted 80 cups of tea!\n",
    "\n",
    "- We sometimes (though not always) saw 1 reorderings out of 50000 with a success rate of 75%.\n",
    "\n",
    "- The probability 1/50000 might not be a great estimate of how likely she\n",
    "would be to achieve a success rate of 75% or higher if she really could not\n",
    "distinguish between the cups of tea.\n",
    "\n",
    "- BUT, it certainly gives strong evidence that our mental model may be wrong..."
   ]
  },
  {
   "cell_type": "markdown",
   "metadata": {
    "slideshow": {
     "slide_type": "slide"
    }
   },
   "source": [
    "### A visual summary\n",
    "\n",
    "- Instead of just computing the chances above, we could record the number\n",
    "of matches for each reordering of `lady` and produce a histogram."
   ]
  },
  {
   "cell_type": "code",
   "execution_count": 90,
   "metadata": {
    "collapsed": false,
    "slideshow": {
     "slide_type": "fragment"
    }
   },
   "outputs": [
    {
     "data": {
      "text/plain": [
       "<matplotlib.text.Text at 0x10c728610>"
      ]
     },
     "execution_count": 90,
     "metadata": {},
     "output_type": "execute_result"
    },
    {
     "data": {
      "image/png": "[encoded data removed]",
      "text/plain": [
       "<matplotlib.figure.Figure at 0x10abf8710>"
      ]
     },
     "metadata": {},
     "output_type": "display_data"
    }
   ],
   "source": [
    "f = plt.figure(figsize=(5,5))\n",
    "ax = f.gca()\n",
    "ax.hist(more_than_60(5000)[0], bins=np.linspace(25,61,19));\n",
    "ax.set_xlabel('Matches');\n",
    "ax.set_ylabel('Count')"
   ]
  },
  {
   "cell_type": "markdown",
   "metadata": {
    "slideshow": {
     "slide_type": "slide"
    }
   },
   "source": [
    "## The null hypothesis\n",
    "\n",
    "- Our mental model above represents how we might model the experiment\n",
    "under the assumption that the lady really cannot distinguish\n",
    "between different the different types.\n",
    "\n",
    "- In statistics, we call this the *null hypothesis*.\n",
    "\n",
    "- The permutations above represented different outcomes for our experiment.\n",
    "\n",
    "- Under our null hypothesis, each of these outcomes was equally likely. This allowed us to compute the chances that the lady would have such a success rate of 75% or higher if she really could not tell the difference (i.e. *assuming the null hypothesis was correct.*) \n",
    "\n",
    "- For 6/8, the chances were about 25%, we were not very impressed. If she had achieved 60/80, we really would have been impressed. In other words, *observing something rare under the null hypothesis is evidence against the null hypothesis.*\n",
    "\n",
    "- This is the rationale in hypothesis tests."
   ]
  },
  {
   "cell_type": "markdown",
   "metadata": {
    "slideshow": {
     "slide_type": "slide"
    }
   },
   "source": [
    "# A second scenario\n",
    "\n",
    "- [A/B testing](http://getdatadriven.com/ab-significance-test) is a tool used by companies to determine the effectiveness of different strategies to attract customers.\n",
    "\n",
    "- Here is an [example](http://getdatadriven.com/ab-significance-test) found with an easy web search.\n",
    "\n",
    "- A company tries two strategies: \n",
    "     * 1000 customers directed to page A, with 90 successful outcomes (i.e. clickthroughs).\n",
    "     * 1000 customers directed to page B, with 120 successful outcomes (i.e. clickthroughs).\n",
    "\n",
    "- Is there a difference between the strategies?\n",
    "\n"
   ]
  },
  {
   "cell_type": "code",
   "execution_count": 10,
   "metadata": {
    "collapsed": true,
    "slideshow": {
     "slide_type": "fragment"
    }
   },
   "outputs": [],
   "source": [
    "strategy_A = [0]*910 + [1]*90\n",
    "strategy_B = [0]*880 + [1]*120"
   ]
  },
  {
   "cell_type": "markdown",
   "metadata": {
    "slideshow": {
     "slide_type": "slide"
    }
   },
   "source": [
    "## Mental model\n",
    "\n",
    "- Suppose that the 1000 customers in each arm are randomly sampled from some population. (*This assumption might not be true in practice! It is notoriously hard to obtain a random sample from a population...*)\n",
    "\n",
    "- Suppose there is no difference between the two strategies. (*This is the null hypothesis in this example.*)\n",
    "\n",
    "- Then, if we make one big data set of size 2000 with 210 successes and then randomly assign 1000 to `A` and the rest to `B` we will have outcomes that were as likely as the observed outcome.\n",
    "\n",
    "- What summary should we use? A reasonable summary would seem to be the difference\n",
    "between the successes between arms `A` and `B`."
   ]
  },
  {
   "cell_type": "code",
   "execution_count": 22,
   "metadata": {
    "collapsed": false,
    "slideshow": {
     "slide_type": "slide"
    }
   },
   "outputs": [
    {
     "data": {
      "image/png": "[encoded data removed]",
      "text/plain": [
       "<matplotlib.figure.Figure at 0x10b111550>"
      ]
     },
     "metadata": {},
     "output_type": "display_data"
    }
   ],
   "source": [
    "pooled = strategy_A + strategy_B\n",
    "number_trial = 10000\n",
    "difference = np.zeros(number_trial)\n",
    "\n",
    "for i in range(number_trial):\n",
    "    np.random.shuffle(pooled)\n",
    "    outcome_A = pooled[:1000] # first 1000 entries are A\n",
    "    outcome_B = pooled[1000:] # the rest are B\n",
    "    difference[i] = np.sum(outcome_A) - np.sum(outcome_B)\n",
    "\n",
    "difference = np.array(difference)\n",
    "f = plt.figure(figsize=(6,6))\n",
    "ax = f.gca()\n",
    "ax.hist(difference, bins=np.linspace(-60,60,61));"
   ]
  },
  {
   "cell_type": "markdown",
   "metadata": {
    "slideshow": {
     "slide_type": "slide"
    }
   },
   "source": [
    "### What are the chances?\n",
    "\n",
    "We observed a difference with absolute value |120-90| = 30.\n",
    "\n",
    "\n",
    "Out of our 5000 different reorderings, how often was the difference in the number of successes\n",
    "greater than or equal to 30 (in absolute value)?"
   ]
  },
  {
   "cell_type": "code",
   "execution_count": 12,
   "metadata": {
    "collapsed": false,
    "slideshow": {
     "slide_type": "fragment"
    }
   },
   "outputs": [
    {
     "data": {
      "text/plain": [
       "0.034599999999999999"
      ]
     },
     "execution_count": 12,
     "metadata": {},
     "output_type": "execute_result"
    }
   ],
   "source": [
    "np.mean(np.fabs(difference) >= 30)"
   ]
  },
  {
   "cell_type": "markdown",
   "metadata": {
    "slideshow": {
     "slide_type": "fragment"
    }
   },
   "source": [
    "This is pretty unlikely. Maybe our null hypothesis is not true..."
   ]
  },
  {
   "cell_type": "markdown",
   "metadata": {
    "slideshow": {
     "slide_type": "slide"
    }
   },
   "source": [
    "# A different method\n",
    "\n",
    "- If we knew the relative success in each arm, we might\n",
    "be able evaluate the chances above in a different way.\n",
    "\n",
    "- For instance, suppose the true success rate in arm A was 10% in arm B it was 11%.\n",
    "\n",
    "- In arm A the number of click-throughs can be described by tossing 1000 coins each with a 10% chance\n",
    "of heads.\n",
    "\n",
    "- In arm B the number of click-throughs can be described by tossing 1000 coins each with a 11% chance\n",
    "of heads.\n"
   ]
  },
  {
   "cell_type": "code",
   "execution_count": 13,
   "metadata": {
    "collapsed": false,
    "slideshow": {
     "slide_type": "fragment"
    }
   },
   "outputs": [
    {
     "data": {
      "text/plain": [
       "{0: 0.8999999999999999, 1: 0.1}"
      ]
     },
     "execution_count": 13,
     "metadata": {},
     "output_type": "execute_result"
    }
   ],
   "source": [
    "from code.probability import Binomial, BoxModel\n",
    "trialA = BoxModel([1] + [0]*9)\n",
    "trialA.mass_function"
   ]
  },
  {
   "cell_type": "code",
   "execution_count": 14,
   "metadata": {
    "collapsed": false,
    "slideshow": {
     "slide_type": "fragment"
    }
   },
   "outputs": [
    {
     "name": "stdout",
     "output_type": "stream",
     "text": [
      "A trial: 101\n",
      "A sample of size 10: [97, 106, 88, 79, 91, 96, 90, 101, 93, 97]\n"
     ]
    }
   ],
   "source": [
    "armA = Binomial(1000, trialA, event_spec=[1])\n",
    "print(\"A trial: %d\" % armA.trial())\n",
    "print(\"A sample of size 10: %s\" % armA.sample(10))"
   ]
  },
  {
   "cell_type": "code",
   "execution_count": 15,
   "metadata": {
    "collapsed": true,
    "slideshow": {
     "slide_type": "slide"
    }
   },
   "outputs": [],
   "source": [
    "trialB = BoxModel([1]*11 + [0]*89)\n",
    "armB = Binomial(1000, trialB, event_spec=[1])\n",
    "\n",
    "def absolute_difference(armA, armB):\n",
    "    return np.fabs(armA.trial() - armB.trial())"
   ]
  },
  {
   "cell_type": "code",
   "execution_count": 16,
   "metadata": {
    "collapsed": false,
    "slideshow": {
     "slide_type": "fragment"
    }
   },
   "outputs": [
    {
     "data": {
      "image/png": "[encoded data removed]",
      "text/plain": [
       "<matplotlib.figure.Figure at 0x10ab355d0>"
      ]
     },
     "metadata": {},
     "output_type": "display_data"
    }
   ],
   "source": [
    "sample_differences = np.array([absolute_difference(armA, armB) for _ in range(10000)])\n",
    "f = plt.figure(figsize=(8,8))\n",
    "ax = f.gca()\n",
    "ax.hist(sample_differences, bins=np.linspace(0,60,31));"
   ]
  },
  {
   "cell_type": "markdown",
   "metadata": {
    "slideshow": {
     "slide_type": "slide"
    }
   },
   "source": [
    "# What are the chances?\n",
    "\n",
    "- We see that if this were the true model that generated the data\n",
    "there would be about a 8% chance of seeing an absolute difference of more than 30.\n",
    "\n",
    "- In this example, the absolute difference is a **test statistic**.\n",
    "\n",
    "- With models for arm A and arm B we are able to create a **sampling distribution** for the test statistic.\n",
    "\n",
    "- Using the sampling distribution we can evaluate the chances of seeing such a large number of differences."
   ]
  },
  {
   "cell_type": "code",
   "execution_count": 17,
   "metadata": {
    "collapsed": false,
    "slideshow": {
     "slide_type": "fragment"
    }
   },
   "outputs": [
    {
     "data": {
      "text/plain": [
       "0.078399999999999997"
      ]
     },
     "execution_count": 17,
     "metadata": {},
     "output_type": "execute_result"
    }
   ],
   "source": [
    "np.mean(sample_differences >= 30)"
   ]
  },
  {
   "cell_type": "markdown",
   "metadata": {
    "slideshow": {
     "slide_type": "slide"
    }
   },
   "source": [
    "# What is the right model?\n",
    "\n",
    "- In our hypothetical example, we assumed that arm A had a success rate of 10%, and arm B had a success\n",
    "rate of 11%. \n",
    "\n",
    "- In practice, we will not know this. \n",
    "\n",
    "- If we had to estimate a success rate in arm A our best guess would be 9%, and 12% in arm B.\n",
    "\n",
    "- What if we had to estimate a success rate **if we believe the two arms have the same success rate**?\n",
    "\n",
    "- We would probably estimate it to be 10.5%, the average of the two success rates."
   ]
  },
  {
   "cell_type": "code",
   "execution_count": 18,
   "metadata": {
    "collapsed": false,
    "slideshow": {
     "slide_type": "slide"
    }
   },
   "outputs": [
    {
     "data": {
      "image/png": "[encoded data removed]",
      "text/plain": [
       "<matplotlib.figure.Figure at 0x10ab354d0>"
      ]
     },
     "metadata": {},
     "output_type": "display_data"
    }
   ],
   "source": [
    "trial = BoxModel([1]*210+[0]*1790)\n",
    "armA = Binomial(1000, trial, event_spec=[1])\n",
    "armB = Binomial(1000, trial, event_spec=[1])\n",
    "sample_differences = np.array([absolute_difference(armA, armB) for _ in range(10000)])\n",
    "f = plt.figure(figsize=(8,8))\n",
    "ax = f.gca()\n",
    "ax.hist(sample_differences, bins=np.linspace(0,60,31));"
   ]
  },
  {
   "cell_type": "code",
   "execution_count": 19,
   "metadata": {
    "collapsed": false,
    "slideshow": {
     "slide_type": "fragment"
    }
   },
   "outputs": [
    {
     "name": "stdout",
     "output_type": "stream",
     "text": [
      "0.0335\n"
     ]
    }
   ],
   "source": [
    "print(np.mean(sample_differences >= 30))"
   ]
  },
  {
   "cell_type": "markdown",
   "metadata": {
    "slideshow": {
     "slide_type": "slide"
    }
   },
   "source": [
    "## Mental model\n",
    "\n",
    "- We saw that we get a very similar result for computing the chances\n",
    "this way as with the permutation method.\n",
    "\n",
    "- We came up with a way to generate data that matched\n",
    "our observed data **assuming the success probabilities in the two arms are the same.**\n",
    "\n",
    "- This assumption made us propose using each arm having 10.5% success as the *correct model*.\n",
    "\n",
    "- Statisticians call this the model for the **null distribution**: what the typical differences\n",
    "look like if both success probabilities were the same.\n",
    "\n",
    "- Note that the typical difference also depends on the success rate, that's why we used 10.5%.\n",
    "\n",
    "- Suppose we used a success rate of 40%."
   ]
  },
  {
   "cell_type": "code",
   "execution_count": 20,
   "metadata": {
    "collapsed": false,
    "slideshow": {
     "slide_type": "slide"
    }
   },
   "outputs": [
    {
     "name": "stdout",
     "output_type": "stream",
     "text": [
      "0.1786\n"
     ]
    },
    {
     "data": {
      "image/png": "[encoded data removed]",
      "text/plain": [
       "<matplotlib.figure.Figure at 0x10ac08690>"
      ]
     },
     "metadata": {},
     "output_type": "display_data"
    }
   ],
   "source": [
    "trial = BoxModel([1]*400+[0]*600)\n",
    "armA = Binomial(1000, trial, event_spec=[1])\n",
    "armB = Binomial(1000, trial, event_spec=[1])\n",
    "sample_differences = np.array([absolute_difference(armA, armB) for _ in range(10000)])\n",
    "f = plt.figure(figsize=(8,8))\n",
    "ax = f.gca()\n",
    "print(np.mean(sample_differences >= 30))\n",
    "ax.hist(sample_differences);"
   ]
  }
 ],
 "metadata": {
  "celltoolbar": "Slideshow",
  "kernelspec": {
   "display_name": "Python 2",
   "language": "python",
   "name": "python2"
  },
  "language_info": {
   "codemirror_mode": {
    "name": "ipython",
    "version": 2
   },
   "file_extension": ".py",
   "mimetype": "text/x-python",
   "name": "python",
   "nbconvert_exporter": "python",
   "pygments_lexer": "ipython2",
   "version": "2.7.11"
  }
 },
 "nbformat": 4,
 "nbformat_minor": 0
}
