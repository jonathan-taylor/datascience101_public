{
 "cells": [
  {
   "cell_type": "code",
   "execution_count": null,
   "metadata": {
    "collapsed": true,
    "slideshow": {
     "slide_type": "skip"
    }
   },
   "outputs": [],
   "source": [
    "%matplotlib inline\n",
    "import matplotlib.pyplot as plt\n",
    "import numpy as np\n",
    "from __future__ import division, print_function\n"
   ]
  },
  {
   "cell_type": "markdown",
   "metadata": {
    "slideshow": {
     "slide_type": "slide"
    }
   },
   "source": [
    "# Bootstrap\n",
    "\n",
    "- The example we used to evaluate evidence for comparing armA to armB is\n",
    "an example of a general technique called the **bootstrap.**\n",
    "\n",
    "- The model for a trial is a box with 210 `1`'s and 1890 `0`'s. This\n",
    "is the pooled data.\n",
    "\n",
    "- The object `armA` chooses 1000 items **with replacement** from `trial`.\n",
    "\n",
    "- The object `armB` similarly chooses 1000 items **with replacement** from `trial`.\n",
    "\n",
    "- We have constructed the number of successes in arms A and B by exactly\n",
    "the same mechanism."
   ]
  },
  {
   "cell_type": "code",
   "execution_count": null,
   "metadata": {
    "collapsed": false,
    "slideshow": {
     "slide_type": "fragment"
    }
   },
   "outputs": [],
   "source": [
    "from code.probability import BoxModel, Binomial\n",
    "trial = BoxModel([1]*210+[0]*1790)\n",
    "armA = Binomial(1000, trial, event_spec=[1])\n",
    "armB = Binomial(1000, trial, event_spec=[1])\n",
    "absolute_differences = lambda armA, armB: np.abs(armA.trial() - armB.trial())\n",
    "sample_differences = np.array([absolute_differences(armA, armB) for i in range(10000)])\n",
    "np.mean(sample_differences >= 30)"
   ]
  },
  {
   "cell_type": "markdown",
   "metadata": {
    "slideshow": {
     "slide_type": "slide"
    }
   },
   "source": [
    "## Comparison to permutation\n",
    "\n",
    "- The permutation method also regenerates successes in arms A and B.\n",
    "\n",
    "- The permutation draws `armA` and `armB` **without replacement**.\n",
    "\n",
    "- The bootstrap draws `armA` and `armB` **with replacement**."
   ]
  },
  {
   "cell_type": "markdown",
   "metadata": {
    "slideshow": {
     "slide_type": "slide"
    }
   },
   "source": [
    "# Other uses of the bootstrap\n",
    "\n",
    "- Let's consider the proteomics data introduced in Module ??"
   ]
  },
  {
   "cell_type": "code",
   "execution_count": null,
   "metadata": {
    "collapsed": false,
    "slideshow": {
     "slide_type": "fragment"
    }
   },
   "outputs": [],
   "source": [
    "# download proteomics data somewhere here"
   ]
  },
  {
   "cell_type": "markdown",
   "metadata": {
    "slideshow": {
     "slide_type": "slide"
    }
   },
   "source": [
    "## Assessing variability with the bootstrap\n",
    "\n",
    "- Bootstrap estimate of SE.\n",
    "\n",
    "- Bootstrap percentile interval.\n",
    "\n",
    "- One sample tests using the bootstrap."
   ]
  },
  {
   "cell_type": "markdown",
   "metadata": {
    "slideshow": {
     "slide_type": "slide"
    }
   },
   "source": [
    "## Parametric bootstrap\n",
    "\n",
    "- Our A/B example was an example of parametric bootstrap.\n",
    "\n",
    "- McNemar's test of car cell phone data also a parametric bootstrap.\n",
    "\n",
    "- From Wikipedia page on McNemar test:\n",
    "\n",
    "<center>\n",
    "<table style=\"text-align:center\">\n",
    "<tr>\n",
    "<td></td>\n",
    "<td><b>After:</b> present</td>\n",
    "<td><b>After:</b> absent</td>\n",
    "<td>Row total</td>\n",
    "</tr>\n",
    "<tr>\n",
    "<td><b>Before:</b> present</td>\n",
    "<td>101</td>\n",
    "<td>121</td>\n",
    "<td>222</td>\n",
    "</tr>\n",
    "<tr>\n",
    "<td><b>Before:</b> absent</td>\n",
    "<td>59</td>\n",
    "<td>33</td>\n",
    "<td>92</td>\n",
    "</tr>\n",
    "<tr>\n",
    "<td>Column total</td>\n",
    "<td>160</td>\n",
    "<td>154</td>\n",
    "<td>314</td>\n",
    "</tr>\n",
    "</table>\n",
    "</center>\n"
   ]
  },
  {
   "cell_type": "code",
   "execution_count": null,
   "metadata": {
    "collapsed": false,
    "slideshow": {
     "slide_type": "slide"
    }
   },
   "outputs": [],
   "source": [
    "model = BoxModel([0,1])\n",
    "null_dbn = Binomial(160, model, event_spec=[1])\n",
    "successes = np.array(null_dbn.sample(10000))\n",
    "f = plt.figure(figsize=(8,8))\n",
    "ax = f.gca()\n",
    "ax.hist(successes, bins=np.linspace(50,110,61))\n",
    "print('The chances are: %0.1e' % np.mean(successes <= 59)*2)"
   ]
  },
  {
   "cell_type": "markdown",
   "metadata": {
    "slideshow": {
     "slide_type": "slide"
    }
   },
   "source": [
    "## A more complicated example\n",
    "\n",
    "- Two sample test  with bootstrap (kind of unnatural)."
   ]
  }
 ],
 "metadata": {
  "celltoolbar": "Slideshow",
  "kernelspec": {
   "display_name": "Python 2",
   "language": "python",
   "name": "python2"
  },
  "language_info": {
   "codemirror_mode": {
    "name": "ipython",
    "version": 2
   },
   "file_extension": ".py",
   "mimetype": "text/x-python",
   "name": "python",
   "nbconvert_exporter": "python",
   "pygments_lexer": "ipython2",
   "version": "2.7.11"
  }
 },
 "nbformat": 4,
 "nbformat_minor": 0
}
