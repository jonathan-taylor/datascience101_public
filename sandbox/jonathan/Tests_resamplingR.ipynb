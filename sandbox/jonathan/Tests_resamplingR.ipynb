{
 "cells": [
  {
   "cell_type": "markdown",
   "metadata": {
    "slideshow": {
     "slide_type": "slide"
    }
   },
   "source": [
    "# Testing hypotheses\n",
    "\n",
    "- This module investigates the use of data science and statistics\n",
    "to answer questions about the process that generated data we observe.\n",
    "\n",
    "- Key concepts in this module:\n",
    "\n",
    "    * Formulation of a question: *hypothesis test*\n",
    "    * Evaluating the evidence for or against the question: *test statistic*\n",
    "    * What are the chances: *permutation distribution*"
   ]
  },
  {
   "cell_type": "markdown",
   "metadata": {
    "slideshow": {
     "slide_type": "slide"
    }
   },
   "source": [
    "\n",
    "## Lady Tasting Tea\n",
    "\n",
    "\n",
    "- This is a famous example of R. A. Fisher.\n",
    "\n",
    "- A lady declares that by tasting a cup of tea made with milk \n",
    "she can discriminate whether\n",
    "the milk or the tea infusion was first added to the cup.\n",
    "\n",
    "<img src=\"https://dl.dropboxusercontent.com/u/2785709/brainder/2015/tastingtea/tea_cups.png\">\n",
    "\n",
    "### Experiment\n",
    "\n",
    "- She is asked to taste eight cups, four of each type.\n",
    "\n",
    "- Cups are presented in a random order.\n",
    "\n",
    "- She correctly identifies the type of 6 out of 8 cups.\n",
    "\n",
    "- Do you think she can really tell the difference?\n"
   ]
  },
  {
   "cell_type": "markdown",
   "metadata": {
    "slideshow": {
     "slide_type": "slide"
    }
   },
   "source": [
    "## A representation of the experiment\n",
    "\n",
    "- Let her choices either `T` or `M`. She must make 8 choices, 4 of which will be `T` and\n",
    "4 of which will be `M`.\n",
    "\n",
    "- The true types of the tea are also `T` or `M`.\n",
    "\n",
    "- Here is an example of how we might describe the experiment"
   ]
  },
  {
   "cell_type": "code",
   "execution_count": null,
   "metadata": {
    "collapsed": false,
    "slideshow": {
     "slide_type": "fragment"
    }
   },
   "outputs": [],
   "source": [
    "lady = c('M', 'T', 'M', 'T', 'T', 'T', 'M', 'M')\n",
    "truth = c('M', 'M', 'M', 'T', 'T', 'T', 'T', 'M')\n",
    "number_correct = sum(lady == truth)\n",
    "number_correct"
   ]
  },
  {
   "cell_type": "markdown",
   "metadata": {
    "slideshow": {
     "slide_type": "slide"
    }
   },
   "source": [
    "## A mental model\n",
    "\n",
    "- The variables `lady` and `truth` are just two outcomes for the experiment\n",
    "in which the lady correctly identifies exactly 6 of the cups of tea.\n",
    "\n",
    "- Is this unusual? How many other outcomes for her choices are there?\n",
    "\n",
    "- How many other outcomes for her choices are there where she correctly identifies 6 or more?"
   ]
  },
  {
   "cell_type": "markdown",
   "metadata": {
    "slideshow": {
     "slide_type": "slide"
    }
   },
   "source": [
    "### Permutations\n",
    "\n",
    "- A *permutation* of a list is a reordering of the list.\n",
    "\n",
    "- The set of all possible outcomes for `lady` is the set of all\n",
    "reorderings of the list `lady`."
   ]
  },
  {
   "cell_type": "code",
   "execution_count": null,
   "metadata": {
    "collapsed": false,
    "slideshow": {
     "slide_type": "fragment"
    }
   },
   "outputs": [],
   "source": [
    "library(iterpc)\n",
    "original_list = c(1:3)\n",
    "original_list"
   ]
  },
  {
   "cell_type": "code",
   "execution_count": null,
   "metadata": {
    "collapsed": false,
    "slideshow": {
     "slide_type": "fragment"
    }
   },
   "outputs": [],
   "source": [
    "I = iterpc(3, labels=original_list, ordered=TRUE)\n",
    "getall(I)"
   ]
  },
  {
   "cell_type": "markdown",
   "metadata": {
    "slideshow": {
     "slide_type": "slide"
    }
   },
   "source": [
    "### Let us count the ways..."
   ]
  },
  {
   "cell_type": "code",
   "execution_count": null,
   "metadata": {
    "collapsed": false,
    "slideshow": {
     "slide_type": "fragment"
    }
   },
   "outputs": [],
   "source": [
    "number_outcomes = 0\n",
    "exactly_six = 0\n",
    "six_or_more = 0\n",
    "\n",
    "library(foreach)\n",
    "I = iterpc(8, labels=lady, ordered=TRUE)\n",
    "permutations_lady = iter_wrapper(I)\n",
    "results = (foreach(lady_permuted=permutations_lady, .combine=rbind) \n",
    "              %do% { c(1, sum(lady_permuted == truth) == 6, sum(lady_permuted == truth) >= 6)})\n",
    "\n",
    "totals = apply(results, 2, sum)"
   ]
  },
  {
   "cell_type": "code",
   "execution_count": null,
   "metadata": {
    "collapsed": false,
    "slideshow": {
     "slide_type": "fragment"
    }
   },
   "outputs": [],
   "source": [
    "number_outcomes = totals[1]\n",
    "exactly_six = totals[2]\n",
    "six_or_more = totals[3]"
   ]
  },
  {
   "cell_type": "markdown",
   "metadata": {
    "slideshow": {
     "slide_type": "slide"
    }
   },
   "source": [
    "### What if there was no difference between the cups of tea?\n",
    "\n",
    "- If the lady could really tell no difference between the two,\n",
    "then any one of 40320 possible outcomes for her choices should\n",
    "reasonably be considered equally likely.\n",
    "\n",
    "- There were 9792 such outcomes in which she would have \n",
    "correctly identified 6 or more.\n",
    "\n",
    "- As the choices are equally likely, the chances that she would\n",
    "correctly identify 6 or more are\n",
    "$$\n",
    "\\frac{9792}{40320} \\approx 24\\%.\n",
    "$$\n",
    "\n",
    "- Not that rare an occurence. The chances she would correctly identify exactly 6 is about 23%!\n",
    "\n",
    "#### Food for thought: why didn't we also permute the `truth`?"
   ]
  },
  {
   "cell_type": "code",
   "execution_count": null,
   "metadata": {
    "collapsed": false,
    "slideshow": {
     "slide_type": "fragment"
    }
   },
   "outputs": [],
   "source": [
    "c(six_or_more / number_outcomes, exactly_six / number_outcomes)"
   ]
  },
  {
   "cell_type": "markdown",
   "metadata": {
    "slideshow": {
     "slide_type": "slide"
    }
   },
   "source": [
    "## More data?\n",
    "\n",
    "- The percentage of 75% seemed pretty impressive until we computed the chances\n",
    "we would see such an impressive rate.\n",
    "\n",
    "- What if she had correctly identified 60 out of 80 cups of tea?\n",
    "\n",
    "- In this case, the number of reorderings is huge, about $10^{118}$!\n",
    "\n",
    "- Our mental model is still valid: if the lady actually has no ability\n",
    "to tell the difference between the two types of teas, then any of these\n",
    "orderings is equally likely, whatever `truth` is.\n",
    "\n",
    "- We can get a sense of how impressive this is by choosing several reorderings\n",
    "at random and computing the number of matches."
   ]
  },
  {
   "cell_type": "code",
   "execution_count": null,
   "metadata": {
    "collapsed": false,
    "slideshow": {
     "slide_type": "slide"
    }
   },
   "outputs": [],
   "source": [
    "lady = c(rep('T', 40), rep('M', 40))\n",
    "truth = c(rep('T', 40), rep('M', 40))\n",
    "lady[1:10]"
   ]
  },
  {
   "cell_type": "code",
   "execution_count": null,
   "metadata": {
    "collapsed": false,
    "slideshow": {
     "slide_type": "fragment"
    }
   },
   "outputs": [],
   "source": [
    "more_than_60 = function(number_permutations) {\n",
    "    exactly_sixty = 0\n",
    "    sixty_or_more = 0\n",
    "    matches = numeric(number_permutations)\n",
    "    for (i in 1:number_permutations) {\n",
    "        lady_reordering = sample(lady, length(lady), replace=FALSE)\n",
    "        number_match = sum(lady_reordering == truth)\n",
    "        exactly_sixty = exactly_sixty + (number_match == 60)\n",
    "        sixty_or_more = sixty_or_more + (number_match >= 60)\n",
    "        matches[i] = number_match\n",
    "    }    \n",
    "    return(list(matches=matches, exactly_sixty=exactly_sixty, sixty_or_more=sixty_or_more))\n",
    "}\n",
    "\n",
    "results = more_than_60(50000)\n",
    "c(results$exactly_sixty, results$sixty_or_more)"
   ]
  },
  {
   "cell_type": "markdown",
   "metadata": {
    "slideshow": {
     "slide_type": "slide"
    }
   },
   "source": [
    "### Maybe she does know what she's doing...\n",
    "\n",
    "- We would really have been impressed by a 75% rate if she had tasted 80 cups of tea!\n",
    "\n",
    "- We sometimes (though not always) saw 1 reorderings out of 50000 with a success rate of 75%.\n",
    "\n",
    "- The probability 1/50000 might not be a great estimate of how likely she\n",
    "would be to achieve a success rate of 75% or higher if she really could not\n",
    "distinguish between the cups of tea.\n",
    "\n",
    "- BUT, it certainly gives strong evidence that our mental model may be wrong..."
   ]
  },
  {
   "cell_type": "markdown",
   "metadata": {
    "slideshow": {
     "slide_type": "slide"
    }
   },
   "source": [
    "### A visual summary\n",
    "\n",
    "- Instead of just computing the chances above, we could record the number\n",
    "of matches for each reordering of `lady` and produce a histogram."
   ]
  },
  {
   "cell_type": "code",
   "execution_count": null,
   "metadata": {
    "collapsed": false,
    "slideshow": {
     "slide_type": "fragment"
    }
   },
   "outputs": [],
   "source": [
    "hist(results$matches, breaks=20, xlab='Matches', ylab='Count', main='')"
   ]
  },
  {
   "cell_type": "markdown",
   "metadata": {
    "slideshow": {
     "slide_type": "slide"
    }
   },
   "source": [
    "## The null hypothesis\n",
    "\n",
    "- Our mental model above represents how we might model the experiment\n",
    "under the assumption that the lady really cannot distinguish\n",
    "between different the different types.\n",
    "\n",
    "- In statistics, we call this the *null hypothesis*.\n",
    "\n",
    "- The permutations above represented different outcomes for our experiment.\n",
    "\n",
    "- Under our null hypothesis, each of these outcomes was equally likely. This allowed us to compute the chances that the lady would have such a success rate of 75% or higher if she really could not tell the difference (i.e. *assuming the null hypothesis was correct.*) \n",
    "\n",
    "- For 6/8, the chances were about 25%, we were not very impressed. If she had achieved 60/80, we really would have been impressed. In other words, *observing something rare under the null hypothesis is evidence against the null hypothesis.*\n",
    "\n",
    "- This is the rationale in hypothesis tests."
   ]
  },
  {
   "cell_type": "markdown",
   "metadata": {
    "slideshow": {
     "slide_type": "slide"
    }
   },
   "source": [
    "# A second scenario\n",
    "\n",
    "- [A/B testing](http://getdatadriven.com/ab-significance-test) is a tool used by companies to determine the effectiveness of different strategies to attract customers.\n",
    "\n",
    "- Here is an [example](http://getdatadriven.com/ab-significance-test) found with an easy web search.\n",
    "\n",
    "- A company tries two strategies: \n",
    "     * 1000 customers directed to page A, with 90 successful outcomes (i.e. clickthroughs).\n",
    "     * 1000 customers directed to page B, with 120 successful outcomes (i.e. clickthroughs).\n",
    "\n",
    "- Is there a difference between the strategies?\n",
    "\n"
   ]
  },
  {
   "cell_type": "code",
   "execution_count": null,
   "metadata": {
    "collapsed": true,
    "slideshow": {
     "slide_type": "fragment"
    }
   },
   "outputs": [],
   "source": [
    "strategy_A = c(rep(0,910), rep(1,90))\n",
    "strategy_B = c(rep(0,880), rep(1,120))"
   ]
  },
  {
   "cell_type": "markdown",
   "metadata": {
    "slideshow": {
     "slide_type": "slide"
    }
   },
   "source": [
    "## Mental model\n",
    "\n",
    "- Suppose that the 1000 customers in each arm are randomly sampled from some population. (*This assumption might not be true in practice! It is notoriously hard to obtain a random sample from a population...*)\n",
    "\n",
    "- Suppose there is no difference between the two strategies. (*This is the null hypothesis in this example.*)\n",
    "\n",
    "- Then, if we make one big data set of size 2000 with 210 successes and then randomly assign 1000 to `A` and the rest to `B` we will have outcomes that were as likely as the observed outcome.\n",
    "\n",
    "- What summary should we use? A reasonable summary would seem to be the difference\n",
    "between the successes between arms `A` and `B`."
   ]
  },
  {
   "cell_type": "code",
   "execution_count": null,
   "metadata": {
    "collapsed": false,
    "slideshow": {
     "slide_type": "slide"
    }
   },
   "outputs": [],
   "source": [
    "pooled = c(strategy_A, strategy_B)\n",
    "number_trial = 10000\n",
    "difference = numeric(number_trial)\n",
    "\n",
    "for (i in 1:number_trial) {\n",
    "    pooled = sample(pooled, length(pooled), replace=FALSE)\n",
    "    outcome_A = pooled[1:1000] # first 1000 entries are A\n",
    "    outcome_B = pooled[1001:2000] # the rest are B\n",
    "    difference[i] = sum(outcome_A) - sum(outcome_B)\n",
    "}\n",
    "\n",
    "hist(difference, breaks=60);"
   ]
  },
  {
   "cell_type": "markdown",
   "metadata": {
    "slideshow": {
     "slide_type": "slide"
    }
   },
   "source": [
    "### What are the chances?\n",
    "\n",
    "We observed a difference with absolute value |120-90| = 30.\n",
    "\n",
    "\n",
    "Out of our 5000 different reorderings, how often was the difference in the number of successes\n",
    "greater than or equal to 30 (in absolute value)?"
   ]
  },
  {
   "cell_type": "code",
   "execution_count": null,
   "metadata": {
    "collapsed": false,
    "slideshow": {
     "slide_type": "fragment"
    }
   },
   "outputs": [],
   "source": [
    "mean(abs(difference) >= 30)"
   ]
  },
  {
   "cell_type": "markdown",
   "metadata": {
    "slideshow": {
     "slide_type": "fragment"
    }
   },
   "source": [
    "This is pretty unlikely. Maybe our null hypothesis is not true..."
   ]
  },
  {
   "cell_type": "markdown",
   "metadata": {
    "slideshow": {
     "slide_type": "slide"
    }
   },
   "source": [
    "# A different method\n",
    "\n",
    "- If we knew the relative success in each arm, we might\n",
    "be able evaluate the chances above in a different way.\n",
    "\n",
    "- For instance, suppose the true success rate in arm A was 10% in arm B it was 11%.\n",
    "\n",
    "- In arm A the number of click-throughs can be described by tossing 1000 coins each with a 10% chance\n",
    "of heads.\n",
    "\n",
    "- In arm B the number of click-throughs can be described by tossing 1000 coins each with a 11% chance\n",
    "of heads.\n"
   ]
  },
  {
   "cell_type": "code",
   "execution_count": null,
   "metadata": {
    "collapsed": false,
    "slideshow": {
     "slide_type": "fragment"
    }
   },
   "outputs": [],
   "source": [
    "trialA = c(1, rep(0, 9))\n",
    "trialB = c(rep(1, 11), rep(0, 89))\n",
    "sample_box = function(box, ndraw) {\n",
    "    return(function() {sum(sample(box, ndraw, replace=TRUE))})\n",
    "}\n",
    "armA = sample_box(trialA, 1000)\n",
    "armB = sample_box(trialB, 1000)\n",
    "armAB_difference = function() {abs(armA() - armB())}"
   ]
  },
  {
   "cell_type": "code",
   "execution_count": null,
   "metadata": {
    "collapsed": false,
    "slideshow": {
     "slide_type": "fragment"
    }
   },
   "outputs": [],
   "source": [
    "sample_differences = numeric(50000)\n",
    "for (i in 1:50000) {\n",
    "    sample_differences[i] = armAB_difference()\n",
    "}\n",
    "hist(sample_differences, breaks=30)"
   ]
  },
  {
   "cell_type": "markdown",
   "metadata": {
    "slideshow": {
     "slide_type": "slide"
    }
   },
   "source": [
    "# What are the chances?\n",
    "\n",
    "- We see that if this were the true model that generated the data\n",
    "there would be about a 8% chance of seeing an absolute difference of more than 30.\n",
    "\n",
    "- In this example, the absolute difference is a **test statistic**.\n",
    "\n",
    "- With models for arm A and arm B we are able to create a **sampling distribution** for the test statistic.\n",
    "\n",
    "- Using the sampling distribution we can evaluate the chances of seeing such a large number of differences."
   ]
  },
  {
   "cell_type": "code",
   "execution_count": null,
   "metadata": {
    "collapsed": false,
    "slideshow": {
     "slide_type": "fragment"
    }
   },
   "outputs": [],
   "source": [
    "mean(sample_differences >= 30)"
   ]
  },
  {
   "cell_type": "markdown",
   "metadata": {
    "slideshow": {
     "slide_type": "slide"
    }
   },
   "source": [
    "# What is the right model?\n",
    "\n",
    "- In our hypothetical example, we assumed that arm A had a success rate of 10%, and arm B had a success\n",
    "rate of 11%. \n",
    "\n",
    "- In practice, we will not know this. \n",
    "\n",
    "- If we had to estimate a success rate in arm A our best guess would be 9%, and 12% in arm B.\n",
    "\n",
    "- What if we had to estimate a success rate **if we believe the two arms have the same success rate**?\n",
    "\n",
    "- We would probably estimate it to be 10.5%, the average of the two success rates."
   ]
  },
  {
   "cell_type": "code",
   "execution_count": null,
   "metadata": {
    "collapsed": false
   },
   "outputs": [],
   "source": [
    "pooled_data = c(rep(1, 210), rep(0, 1790))\n",
    "armA = sample_box(pooled_data, 1000)\n",
    "armB = sample_box(pooled_data, 1000)\n",
    "armAB_difference = function() { return(abs(armA() - armB())) }"
   ]
  },
  {
   "cell_type": "code",
   "execution_count": null,
   "metadata": {
    "collapsed": false,
    "slideshow": {
     "slide_type": "slide"
    }
   },
   "outputs": [],
   "source": [
    "sample_differences = numeric(50000)\n",
    "for (i in 1:50000) {\n",
    "    sample_differences[i] = armAB_difference()\n",
    "}\n",
    "hist(sample_differences, breaks=30)"
   ]
  },
  {
   "cell_type": "code",
   "execution_count": null,
   "metadata": {
    "collapsed": false,
    "slideshow": {
     "slide_type": "fragment"
    }
   },
   "outputs": [],
   "source": [
    "mean(sample_differences >= 30)"
   ]
  },
  {
   "cell_type": "markdown",
   "metadata": {
    "slideshow": {
     "slide_type": "slide"
    }
   },
   "source": [
    "## Mental model\n",
    "\n",
    "- We saw that we get a very similar result for computing the chances\n",
    "this way as with the permutation method.\n",
    "\n",
    "- We came up with a way to generate data that matched\n",
    "our observed data **assuming the success probabilities in the two arms are the same.**\n",
    "\n",
    "- This assumption made us propose using each arm having 10.5% success as the *correct model*.\n",
    "\n",
    "- Statisticians call this the model for the **null distribution**: what the typical differences\n",
    "look like if both success probabilities were the same.\n",
    "\n",
    "- Note that the typical difference also depends on the success rate, that's why we used 10.5%.\n",
    "\n",
    "- Suppose we used a success rate of 40%."
   ]
  },
  {
   "cell_type": "code",
   "execution_count": null,
   "metadata": {
    "collapsed": false,
    "slideshow": {
     "slide_type": "slide"
    }
   },
   "outputs": [],
   "source": [
    "pooled_data = c(rep(1, 400), rep(0, 600))\n",
    "armA = sample_box(pooled_data, 1000)\n",
    "armB = sample_box(pooled_data, 1000)\n",
    "armAB_difference = function() { return(abs(armA() - armB())) }\n",
    "sample_differences = numeric(50000)\n",
    "for (i in 1:50000) {\n",
    "    sample_differences[i] = armAB_difference()\n",
    "}\n",
    "hist(sample_differences, breaks=30)\n"
   ]
  },
  {
   "cell_type": "code",
   "execution_count": null,
   "metadata": {
    "collapsed": true
   },
   "outputs": [],
   "source": []
  }
 ],
 "metadata": {
  "anaconda-cloud": {},
  "celltoolbar": "Slideshow",
  "kernelspec": {
   "display_name": "R",
   "language": "R",
   "name": "ir"
  },
  "language_info": {
   "codemirror_mode": "r",
   "file_extension": ".r",
   "mimetype": "text/x-r-source",
   "name": "R",
   "pygments_lexer": "r",
   "version": "3.3.1"
  }
 },
 "nbformat": 4,
 "nbformat_minor": 0
}
