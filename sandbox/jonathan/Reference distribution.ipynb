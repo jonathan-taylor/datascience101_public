{
 "cells": [
  {
   "cell_type": "code",
   "execution_count": null,
   "metadata": {
    "collapsed": false
   },
   "outputs": [],
   "source": [
    "%matplotlib inline\n",
    "import matplotlib.pyplot as plt\n",
    "import numpy as np\n",
    "from scipy.stats import norm as normal_dbn\n",
    "from __future__ import division, print_function\n",
    "\n",
    "from code.week1 import normal_curve\n",
    "from code.probability import BoxModel, Binomial"
   ]
  },
  {
   "cell_type": "markdown",
   "metadata": {},
   "source": [
    "# Hypothesis tests\n",
    "\n",
    "- So far, we have talked about **hypotheses**: questions about the data generating mechanism.\n",
    "\n",
    "- Formally, this requires specifying a **null hypothesis** and its complement the **alternative hypothesis.**\n",
    "\n",
    "- Assuming the null is true, we have found ways to recreate many data sets\n",
    "that have similar properties to the observed data (as similar as possible).\n",
    "\n",
    "- These **resampling schemes** allow us to weigh the evidence for or against the null hypothesis\n",
    "based on a **test statistic**.\n",
    "\n"
   ]
  },
  {
   "cell_type": "markdown",
   "metadata": {},
   "source": [
    "## What if we can't resample?\n",
    "\n",
    "- In some scenarios, constructing a plausible way to regenerate many data sets\n",
    "is implausible.\n",
    "\n",
    "- What to do? We need some **reference distribution** for our test statistic.\n",
    "\n",
    "- In some sense, our resampling schemes work because as we collect more data, the reference distribution\n",
    "created by our resampling schemes takes on a familiar shape.\n",
    "\n",
    "- This shape is the (in)famous **normal curve**."
   ]
  },
  {
   "cell_type": "code",
   "execution_count": null,
   "metadata": {
    "collapsed": false
   },
   "outputs": [],
   "source": [
    "normal_fig = plt.figure(figsize=(8,8))\n",
    "normal_ax = normal_curve()"
   ]
  },
  {
   "cell_type": "code",
   "execution_count": null,
   "metadata": {
    "collapsed": false,
    "slideshow": {
     "slide_type": "slide"
    }
   },
   "outputs": [],
   "source": [
    "coin = BoxModel([0,1])\n",
    "heads = Binomial(50, coin)\n",
    "heads.trial()"
   ]
  },
  {
   "cell_type": "code",
   "execution_count": null,
   "metadata": {
    "collapsed": false
   },
   "outputs": [],
   "source": [
    "f = plt.figure(figsize=(8,8))\n",
    "ax = f.gca()\n",
    "ax.hist(heads.sample(10000), bins=np.linspace(10,40,31));"
   ]
  },
  {
   "cell_type": "code",
   "execution_count": null,
   "metadata": {
    "collapsed": false
   },
   "outputs": [],
   "source": [
    "interval = np.linspace(-4,-2.2, 101)\n",
    "normal_ax.fill_between(interval, 0*interval, normal_dbn.pdf(interval),\n",
    "                       hatch='+', color='green', alpha=0.5)\n"
   ]
  },
  {
   "cell_type": "markdown",
   "metadata": {},
   "source": [
    "## Conversion to standardized units"
   ]
  },
  {
   "cell_type": "markdown",
   "metadata": {
    "slideshow": {
     "slide_type": "slide"
    }
   },
   "source": [
    "## Use of the normal curve\n",
    "\n",
    "- Using the normal curve is not always defensible.\n",
    "\n",
    "- We need to know enough about the data generating mechanism (under the null hypothesis) to:\n",
    "    1. Establish that the sampling distribution looks like the normal curve.\n",
    "    2. Compute the center and scale of the normal curve for the null distribution.\n",
    "    \n",
    "- Often, point 1. can take quite a lot of math!\n",
    "\n",
    "- When possible, a resampling mechanism like the bootstrap or permutation test can\n",
    "effectively do all the work for point 2. above.\n",
    "\n"
   ]
  },
  {
   "cell_type": "code",
   "execution_count": null,
   "metadata": {
    "collapsed": true
   },
   "outputs": [],
   "source": []
  }
 ],
 "metadata": {
  "celltoolbar": "Slideshow",
  "kernelspec": {
   "display_name": "Python 2",
   "language": "python",
   "name": "python2"
  },
  "language_info": {
   "codemirror_mode": {
    "name": "ipython",
    "version": 2
   },
   "file_extension": ".py",
   "mimetype": "text/x-python",
   "name": "python",
   "nbconvert_exporter": "python",
   "pygments_lexer": "ipython2",
   "version": "2.7.11"
  }
 },
 "nbformat": 4,
 "nbformat_minor": 0
}
